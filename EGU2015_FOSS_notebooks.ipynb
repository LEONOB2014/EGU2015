{
 "cells": [
  {
   "cell_type": "code",
   "execution_count": 5,
   "metadata": {
    "collapsed": false,
    "slideshow": {
     "slide_type": "skip"
    }
   },
   "outputs": [
    {
     "data": {
      "text/html": [
       "<style>\n",
       "/*\n",
       "   Simple CSS styling for using IPython Notebooks for talks.\n",
       "\n",
       "   Author: Fernando Perez <fernando.perez@berkeley.edu>\n",
       "*/\n",
       "\n",
       ".talk-title\n",
       "{\n",
       "  color: #08519c;\n",
       "  font-size: 180%;\n",
       "  font-weight:bold;\n",
       "  line-height: 1.2;\n",
       "  margin: 10px 50px 10px;\n",
       "  }\n",
       "\n",
       ".talk-subtitle\n",
       "{\n",
       "  color: #3182bd;\n",
       "  font-size: 100%;\n",
       "  font-weight:bold;\n",
       "  line-height: 1.2;\n",
       "  margin: 20px 50px 20px;\n",
       "  }\n",
       "\n",
       ".talk-authors\n",
       "  {\n",
       "      font-size: 80%;\n",
       "      line-height: 1.2;\n",
       "      margin: 20px 50px 20px;\n",
       "  }\n",
       "\n",
       ".slide-header, p.slide-header\n",
       "{\n",
       "  color: #08519c;\n",
       "  font-size: 180%;\n",
       "  font-weight:bold;\n",
       "  margin: 0px 20px 10px;\n",
       "  page-break-before: always;\n",
       "  text-align: center;\n",
       "  }\n",
       "\n",
       ".rendered_html\n",
       "{\n",
       "  color: #2c7fb8;\n",
       "  font-family: Ubuntu;\n",
       "  font-size: 170%;\n",
       "  line-height: 1.1;\n",
       "  margin: 0.5em 0;\n",
       "  }\n",
       "\n",
       ".rendered_html h1\n",
       "{\n",
       "  color: #08519c;\n",
       "  line-height: 1.2;\n",
       "  margin: 0.15em 0em 0.5em;\n",
       "  page-break-before: always;\n",
       "  text-align: center;\n",
       "  }\n",
       "\n",
       "\n",
       ".rendered_html h2\n",
       "{\n",
       "  color: #3182bd;\n",
       "  line-height: 1.2;\n",
       "  margin: 1.1em 0em 0.5em;\n",
       "  }\n",
       "\n",
       ".rendered_html h3\n",
       "{\n",
       "  color: #3182bd;\n",
       "  font-size: 110%;\n",
       "  line-height: 1.2;\n",
       "  margin: 1.1em 0em 0.5em;\n",
       "  }\n",
       "\n",
       ".rendered_html h5\n",
       "{\n",
       "  font-size: 50%;\n",
       "  line-height: 1;\n",
       "  margin: 0.3em 0em 0.3em;\n",
       "  font-weight: bold;\n",
       "  text-align: center;\n",
       "  }\n",
       "\n",
       ".rendered_html h6\n",
       "{\n",
       "  font-size: 50%;\n",
       "  line-height: 1;\n",
       "  margin: 0.3em 0em 0.3em;\n",
       "  font-weight: normal;\n",
       "  text-align: center;\n",
       "  }\n",
       "\n",
       ".rendered_html li\n",
       "{\n",
       "  line-height: 1.8;\n",
       "  }\n",
       "\n",
       ".input_prompt, .CodeMirror-lines, .output_area\n",
       "{\n",
       "  font-family: Consolas;\n",
       "  font-size: 120%;\n",
       "  }\n",
       "\n",
       ".gap-above\n",
       "{\n",
       "  padding-top: 200px;\n",
       "  }\n",
       "\n",
       ".gap01\n",
       "{\n",
       "  padding-top: 10px;\n",
       "  }\n",
       "\n",
       ".gap05\n",
       "{\n",
       "  padding-top: 50px;\n",
       "  }\n",
       "\n",
       ".gap1\n",
       "{\n",
       "  padding-top: 100px;\n",
       "  }\n",
       "\n",
       ".gap2\n",
       "{\n",
       "  padding-top: 200px;\n",
       "  }\n",
       "\n",
       ".gap3\n",
       "{\n",
       "  padding-top: 300px;\n",
       "  }\n",
       "\n",
       ".emph\n",
       "{\n",
       "  color: #386BBC;\n",
       "  }\n",
       "\n",
       ".strike\n",
       "{\n",
       "  text-decoration:line-through;\n",
       "  color: #969696;\n",
       "  }\n",
       "\n",
       ".warn\n",
       "{\n",
       "  color: red;\n",
       "  }\n",
       "\n",
       ".center\n",
       "{\n",
       "  text-align: center;\n",
       "  }\n",
       "\n",
       ".nb_link\n",
       "{\n",
       "    padding-bottom: 0.5em;\n",
       "}\n",
       "\n",
       "</style>\n"
      ],
      "text/plain": [
       "<IPython.core.display.HTML object>"
      ]
     },
     "metadata": {},
     "output_type": "display_data"
    }
   ],
   "source": [
    "%run talktools\n",
    "%matplotlib inline"
   ]
  },
  {
   "cell_type": "markdown",
   "metadata": {
    "slideshow": {
     "slide_type": "slide"
    }
   },
   "source": [
    "<h1><div align='left'> Open Source can improve current scientific practice</div></h1>\n",
    "\n",
    "<h3>Ipython notebooks are a great tool to support this</h3>\n",
    "**Sophie Balemans** and **Stijn Van Hoey**\n",
    "\n",
    "*EGU 2015 - PICO session on Open Source Computing in Hydrology*"
   ]
  },
  {
   "cell_type": "markdown",
   "metadata": {
    "slideshow": {
     "slide_type": "slide"
    }
   },
   "source": [
    "# The ideals of (hydrological) science\n",
    "\n",
    "* Provide verifiable answers about water and solutions to water-related problems.\n",
    "* The validation of these results by reproduction.\n",
    "* An altruistic, collective enterprise for humanity's benefit\n",
    "\n",
    "*F Perez*"
   ]
  },
  {
   "cell_type": "markdown",
   "metadata": {
    "slideshow": {
     "slide_type": "subslide"
    }
   },
   "source": [
    "# The <span class=\"strike\">ideals</span> reality of (hydrological) science\n",
    "\n",
    "* <span class=\"strike\">Provide verifiable answers about water and solutions to water-related problems.</span>\n",
    " - **The pursuit of highly cited papers for your CV.**\n",
    "* <span class=\"strike\">The validation of our results by reproduction.</span>\n",
    " - **Validation by convincing journal referees who didn't see your code or data.**\n",
    "* <span class=\"strike\">An altruistic, collective enterprise  for humanity's benefit.</span>\n",
    " - **A deadly race to outrun your colleagues in front of the bear of funding.**\n",
    "\n",
    "*F Perez*"
   ]
  },
  {
   "cell_type": "markdown",
   "metadata": {
    "slideshow": {
     "slide_type": "subslide"
    }
   },
   "source": [
    "# Free and Open Source Software (FOSS) in this context\n",
    "\n",
    "* <span class=\"emph\">Open, collaborative by definition.</span>\n",
    "  - Industrial competition can coexist...\n",
    "  \n",
    "* <span class=\"emph\">Continuous</span>, public process.\n",
    "  - Distributed credit.\n",
    "  - Open peer review.\n",
    "\n",
    "* <span class=\"emph\">Reproducible by necessity.</span>\n",
    "\n",
    "* <span class=\"emph\">Public bug tracking.</span>\n",
    "\n",
    "* The use of <span class=\"emph\">licenses</span> is essential ([CC, BSD, GPL,...](http://choosealicense.com/))\n",
    "\n",
    "*F Perez*"
   ]
  },
  {
   "cell_type": "markdown",
   "metadata": {
    "slideshow": {
     "slide_type": "subslide"
    }
   },
   "source": [
    "# FOSS $\\neq$ free work\n",
    "<center><img src=\"figs/workfree.png\" width=\"70%\"></center>"
   ]
  },
  {
   "cell_type": "markdown",
   "metadata": {
    "slideshow": {
     "slide_type": "subslide"
    }
   },
   "source": [
    "# All waiting for the developer...\n",
    "\n",
    "<center><img src=\"figs/crowd.jpg\" width=\"70%\"></center>"
   ]
  },
  {
   "cell_type": "markdown",
   "metadata": {
    "slideshow": {
     "slide_type": "fragment"
    }
   },
   "source": [
    "<div class=\"center\"><h2>...or all developers?</h2></div>"
   ]
  },
  {
   "cell_type": "markdown",
   "metadata": {
    "slideshow": {
     "slide_type": "subslide"
    }
   },
   "source": [
    "# Graveyard of good intentions\n",
    "<center><img src=\"figs/graveyard.jpg\" width=\"70%\"></center>"
   ]
  },
  {
   "cell_type": "markdown",
   "metadata": {
    "slideshow": {
     "slide_type": "subslide"
    }
   },
   "source": [
    "# Towards *continuous* and *collaborative*\n",
    "\n",
    "What do we need:\n",
    "\n",
    "* <span class=\"emph\">Training</span>  of students, Phds,... <br>*Creating a future generation of scientists with reproducibility as default*<br> Provide version control, script-based development, database management... in the curricula\n",
    "*  <span class=\"emph\">Continuous funding</span>  of open source development<br>*Payed to maintain and develop open source projects*\n",
    "* <span class=\"emph\">Tools</span> that facilitate a reproducible workflow<br>*[knitr](http://yihui.name/knitr/), [Ipython Notebook](http://ipython.org/notebook.html), [git](http://git-scm.com/), [RunMyCode](http://www.runmycode.org/), [VIStrails](http://www.vistrails.org), [Authorea](https://www.authorea.com),...*\n",
    "\n",
    "\n",
    "<div class=\"center\"><h2>Ipython Notebook</h2></div>"
   ]
  },
  {
   "cell_type": "markdown",
   "metadata": {
    "slideshow": {
     "slide_type": "slide"
    }
   },
   "source": [
    "# Reproducible science\n",
    "\n",
    "* Reproducibility <span class=\"emph\">at publication time?</span>  is **TOO late!**"
   ]
  },
  {
   "cell_type": "markdown",
   "metadata": {
    "slideshow": {
     "slide_type": "fragment"
    }
   },
   "source": [
    "We need to embed the <span class=\"emph\">entire lifecycle</span> of a scientific idea:\n",
    "\n",
    "1. exploratory stuff\n",
    "2. (collaborative) development\n",
    "3. production (simulations on HPC, data visualisation,...)\n",
    "4. publication (with <span class=\"warn\">reproducible</span> results)\n",
    "5. teach about it\n",
    "6. Go back to 1.\n",
    "\n",
    "**Ipython (Jupyter!) Notebook** can support on the different levels"
   ]
  },
  {
   "cell_type": "markdown",
   "metadata": {
    "slideshow": {
     "slide_type": "subslide"
    }
   },
   "source": [
    "**Ipython (Jupyter!) Notebook...** (*this is a notebook!*)\n",
    "\n",
    "<div class=\"center\"><h3>Minimize effort between analysis and sharing</h3></div>\n",
    "\n",
    "<center><img src=\"figs/IPynbWorkflows.png\" width=\"50%\"></center>\n",
    "\n",
    "* Interactive shell for data-analysis and exploration\n",
    "* Interaction between languages (R, Julia,...)\n",
    "* Parallel computing\n",
    "* ipynb to latex, pdf, html, html,slides, publications, books,...\n",
    "* Loading of images, websites, widgets,...\n",
    "* ...\n",
    "\n",
    "Check it out on https://github.com/ipython/ipython/wiki/A-gallery-of-interesting-IPython-Notebooks"
   ]
  },
  {
   "cell_type": "markdown",
   "metadata": {
    "slideshow": {
     "slide_type": "subslide"
    }
   },
   "source": [
    "# Scripts, so it can be *version controlled!*\n",
    "<center><img src=\"figs/version-control.jpg\" width=\"70%\"></center>"
   ]
  },
  {
   "cell_type": "markdown",
   "metadata": {
    "slideshow": {
     "slide_type": "slide"
    }
   },
   "source": [
    "# Recap *5. teach about it*\n",
    "\n",
    "* The same file can be used to do analysis, create course notes and retrieve slides using <span class=\"emph\">nbconvert</span>\n",
    "* Students can <span class=\"emph\">interactively</span> work on their notebook\n",
    "* Different useful <span class=\"emph\">features</span>: eg. \n",
    "<div class=\"center\"><h2>interactive widgets</h2></div>"
   ]
  },
  {
   "cell_type": "markdown",
   "metadata": {
    "slideshow": {
     "slide_type": "slide"
    }
   },
   "source": [
    "# Case : Model evaluation\n",
    "\n",
    "* You did an awful lot of simulations\n",
    "* ...\n",
    "\n",
    "TODO"
   ]
  },
  {
   "cell_type": "markdown",
   "metadata": {
    "slideshow": {
     "slide_type": "skip"
    }
   },
   "source": []
  },
  {
   "cell_type": "markdown",
   "metadata": {
    "slideshow": {
     "slide_type": "skip"
    }
   },
   "source": [
    "<img src=\"figs/X_mark.svg\" width=\"10%\" align=\"left\">I don't like this, could you please...<br>\n",
    "\n",
    "\n",
    "\n",
    "<img src=\"figs/Check_mark.svg\" width=\"10%\"  align=\"left\"> *Fork*, adapt code, *pull request*"
   ]
  }
 ],
 "metadata": {
  "celltoolbar": "Slideshow",
  "kernelspec": {
   "display_name": "Python 2",
   "language": "python",
   "name": "python2"
  },
  "language_info": {
   "codemirror_mode": {
    "name": "ipython",
    "version": 2
   },
   "file_extension": ".py",
   "mimetype": "text/x-python",
   "name": "python",
   "nbconvert_exporter": "python",
   "pygments_lexer": "ipython2",
   "version": "2.7.9"
  }
 },
 "nbformat": 4,
 "nbformat_minor": 0
}
